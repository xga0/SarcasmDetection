{
 "cells": [
  {
   "cell_type": "code",
   "execution_count": 1,
   "metadata": {
    "_cell_guid": "b1076dfc-b9ad-4769-8c92-a6c4dae69d19",
    "_uuid": "8f2839f25d086af736a60e9eeb907d3b93b6e0e5"
   },
   "outputs": [
    {
     "name": "stdout",
     "output_type": "stream",
     "text": [
      "Collecting contractions\r\n",
      "  Downloading contractions-0.0.24-py2.py3-none-any.whl (3.2 kB)\r\n",
      "Collecting textsearch\r\n",
      "  Downloading textsearch-0.0.17-py2.py3-none-any.whl (7.5 kB)\r\n",
      "Requirement already satisfied: Unidecode in /opt/conda/lib/python3.6/site-packages (from textsearch->contractions) (1.1.1)\r\n",
      "Requirement already satisfied: pyahocorasick in /opt/conda/lib/python3.6/site-packages (from textsearch->contractions) (1.4.0)\r\n",
      "Installing collected packages: textsearch, contractions\r\n",
      "Successfully installed contractions-0.0.24 textsearch-0.0.17\r\n"
     ]
    },
    {
     "name": "stderr",
     "output_type": "stream",
     "text": [
      "Using TensorFlow backend.\n"
     ]
    }
   ],
   "source": [
    "!pip install contractions\n",
    "\n",
    "import pandas as pd\n",
    "import re\n",
    "import contractions\n",
    "from nltk.corpus import stopwords\n",
    "import en_core_web_sm\n",
    "from keras.preprocessing.text import Tokenizer\n",
    "from keras.preprocessing.sequence import pad_sequences\n",
    "from sklearn.model_selection import train_test_split\n",
    "import numpy as np\n",
    "from keras.models import Sequential\n",
    "from keras.layers import Embedding\n",
    "from keras.layers import LSTM, Dense, Dropout, GlobalMaxPool1D\n",
    "from sklearn import metrics\n",
    "import matplotlib.pyplot as plt\n",
    "%matplotlib inline"
   ]
  },
  {
   "cell_type": "code",
   "execution_count": 2,
   "metadata": {
    "_cell_guid": "79c7e3d0-c299-4dcb-8224-4455121ee9b0",
    "_uuid": "d629ff2d2480ee46fbb7e2d37f6b5fab8052498a"
   },
   "outputs": [],
   "source": [
    "#LOAD AND COMBINE TWO VERSIONS\n",
    "s1 = pd.read_json(\n",
    "        '../input/news-headlines-dataset-for-sarcasm-detection/Sarcasm_Headlines_Dataset.json',\n",
    "        lines=True)\n",
    "\n",
    "s2 = pd.read_json(\n",
    "        '../input/news-headlines-dataset-for-sarcasm-detection/Sarcasm_Headlines_Dataset_v2.json',\n",
    "        lines=True)\n",
    "\n",
    "x1 = s1[['headline', 'is_sarcastic']]\n",
    "x2 = s2[['headline', 'is_sarcastic']]\n",
    "\n",
    "x = pd.concat([x1, x2], ignore_index=True)\n",
    "x.columns = ['text', 'label']\n",
    "x = x.drop_duplicates(subset=['text', 'label'], keep='first')"
   ]
  },
  {
   "cell_type": "code",
   "execution_count": 3,
   "metadata": {},
   "outputs": [
    {
     "data": {
      "text/plain": [
       "'former versace store clerk sue secret black code minority shopper'"
      ]
     },
     "execution_count": 3,
     "metadata": {},
     "output_type": "execute_result"
    }
   ],
   "source": [
    "#TEXT PREPROCESS\n",
    "#FIX CONTRACTIONS\n",
    "x['text'] = x['text'].apply(lambda x: contractions.fix(x))\n",
    "\n",
    "#REMOVE PUNCTUATION\n",
    "x['text'] = x['text'].apply(lambda x: re.sub('[^a-zA-z0-9\\s]','',x))\n",
    "\n",
    "#CONVERT TO LOWERCASE\n",
    "def lowerCase(input_str):\n",
    "    input_str = input_str.lower()\n",
    "    return input_str\n",
    "\n",
    "x['text'] = x['text'].apply(lambda x: lowerCase(x))\n",
    "\n",
    "#REMOVE STOPWORDS AND LEMMATIZATION\n",
    "sp = en_core_web_sm.load()\n",
    "stpw = set(stopwords.words('english'))\n",
    "\n",
    "def lemma(input_str):\n",
    "    s = sp(input_str)\n",
    "    \n",
    "    input_list = []\n",
    "    for word in s:\n",
    "        w = word.lemma_\n",
    "        input_list.append(w)\n",
    "        \n",
    "    output = ' '.join(word for word in input_list if word not in stpw)\n",
    "    return output\n",
    "\n",
    "X = []\n",
    "text = list(x['text'])\n",
    "for t in text:\n",
    "    X.append(lemma(t))\n",
    "    \n",
    "X[0]"
   ]
  },
  {
   "cell_type": "code",
   "execution_count": 4,
   "metadata": {},
   "outputs": [
    {
     "name": "stderr",
     "output_type": "stream",
     "text": [
      "/opt/conda/lib/python3.6/site-packages/IPython/core/interactiveshell.py:3254: FutureWarning: arrays to stack must be passed as a \"sequence\" type such as list or tuple. Support for non-sequence iterables such as generators is deprecated as of NumPy 1.16 and will raise an error in the future.\n",
      "  if (await self.run_code(code, result,  async_=asy)):\n",
      "/opt/conda/lib/python3.6/site-packages/tensorflow_core/python/framework/indexed_slices.py:433: UserWarning: Converting sparse IndexedSlices to a dense Tensor of unknown shape. This may consume a large amount of memory.\n",
      "  \"Converting sparse IndexedSlices to a dense Tensor of unknown shape. \"\n"
     ]
    },
    {
     "name": "stdout",
     "output_type": "stream",
     "text": [
      "Epoch 1/3\n",
      "22802/22802 [==============================] - 38s 2ms/step - loss: 0.5466 - accuracy: 0.7162\n",
      "Epoch 2/3\n",
      "22802/22802 [==============================] - 37s 2ms/step - loss: 0.3775 - accuracy: 0.8321\n",
      "Epoch 3/3\n",
      "22802/22802 [==============================] - 37s 2ms/step - loss: 0.2752 - accuracy: 0.8847\n",
      "5701/5701 [==============================] - 1s 251us/step\n"
     ]
    }
   ],
   "source": [
    "embed_size = 100\n",
    "\n",
    "tokenizer = Tokenizer()\n",
    "tokenizer.fit_on_texts(X)\n",
    "\n",
    "X1 = tokenizer.texts_to_sequences(X)\n",
    "X1 = pad_sequences(X1)\n",
    "\n",
    "y = x['label'].to_list()\n",
    "\n",
    "X_train, X_test, y_train, y_test = train_test_split(X1, y, test_size = 0.2,\n",
    "                                                    random_state = 42)\n",
    "\n",
    "embedding_path = '../input/glove-global-vectors-for-word-representation/glove.6B.100d.txt'\n",
    "\n",
    "embeddings_index = {}\n",
    "f = open(embedding_path)\n",
    "for line in f:\n",
    "    values = line.split()\n",
    "    word = values[0]\n",
    "    coefs = np.asarray(values[1:], dtype='float32')\n",
    "    embeddings_index[word] = coefs\n",
    "f.close()\n",
    "\n",
    "word_index = tokenizer.word_index\n",
    "\n",
    "all_embs = np.stack(embeddings_index.values())\n",
    "emb_mean, emb_std = all_embs.mean(), all_embs.std()\n",
    "\n",
    "embedding_matrix = np.random.normal(emb_mean, emb_std, (len(word_index) + 1, embed_size))\n",
    "for word, i in word_index.items():\n",
    "    embedding_vector = embeddings_index.get(word)\n",
    "    if embedding_vector is not None:\n",
    "        embedding_matrix[i] = embedding_vector\n",
    "\n",
    "model = Sequential()\n",
    "model.add(Embedding(len(word_index) + 1, embed_size, weights=[embedding_matrix]))\n",
    "model.add(LSTM(50, return_sequences=True, dropout=0.1, recurrent_dropout=0.1))\n",
    "model.add(GlobalMaxPool1D())\n",
    "model.add(Dense(50, activation=\"relu\"))\n",
    "model.add(Dropout(0.1))\n",
    "model.add(Dense(1, activation=\"sigmoid\"))\n",
    "model.compile(loss='binary_crossentropy', optimizer='adam', metrics=['accuracy'])\n",
    "\n",
    "model.fit(X_train, y_train, batch_size=64, epochs=3)\n",
    "y_pred = model.predict([X_test], batch_size=1024, verbose=1)"
   ]
  },
  {
   "cell_type": "code",
   "execution_count": 5,
   "metadata": {},
   "outputs": [
    {
     "name": "stdout",
     "output_type": "stream",
     "text": [
      "AUC: 0.9083258385241825\n"
     ]
    },
    {
     "data": {
      "image/png": "[encoded data removed]",
      "text/plain": [
       "<Figure size 432x288 with 1 Axes>"
      ]
     },
     "metadata": {
      "needs_background": "light"
     },
     "output_type": "display_data"
    }
   ],
   "source": [
    "#PLOT\n",
    "fpr, tpr, thresholds = metrics.roc_curve(y_test, y_pred, pos_label=1)\n",
    "\n",
    "auc = np.trapz(tpr,fpr)\n",
    "print('AUC:', auc)  \n",
    "plt.figure()\n",
    "plt.xlabel('False Positive Rate')\n",
    "plt.ylabel('True Positive Rate')\n",
    "plt.title('ROC Curve: AUC = {0:0.2f}'.format(auc))\n",
    "plt.plot(fpr,tpr)\n",
    "plt.show()"
   ]
  },
  {
   "cell_type": "code",
   "execution_count": 6,
   "metadata": {},
   "outputs": [
    {
     "data": {
      "text/plain": [
       "0.8238905455183301"
      ]
     },
     "execution_count": 6,
     "metadata": {},
     "output_type": "execute_result"
    }
   ],
   "source": [
    "#ACCURACY\n",
    "y_pred1 = y_pred > 0.5\n",
    "metrics.accuracy_score(y_pred1, y_test)"
   ]
  },
  {
   "cell_type": "code",
   "execution_count": 7,
   "metadata": {},
   "outputs": [
    {
     "data": {
      "text/plain": [
       "array([[2403,  416],\n",
       "       [ 588, 2294]])"
      ]
     },
     "execution_count": 7,
     "metadata": {},
     "output_type": "execute_result"
    }
   ],
   "source": [
    "#CONFUSION MATRIX\n",
    "metrics.confusion_matrix(y_pred1, y_test)"
   ]
  }
 ],
 "metadata": {
  "kernelspec": {
   "display_name": "Python 3",
   "language": "python",
   "name": "python3"
  },
  "language_info": {
   "codemirror_mode": {
    "name": "ipython",
    "version": 3
   },
   "file_extension": ".py",
   "mimetype": "text/x-python",
   "name": "python",
   "nbconvert_exporter": "python",
   "pygments_lexer": "ipython3",
   "version": "3.6.6"
  }
 },
 "nbformat": 4,
 "nbformat_minor": 4
}
